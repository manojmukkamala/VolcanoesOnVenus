{
  "nbformat": 4,
  "nbformat_minor": 0,
  "metadata": {
    "colab": {
      "name": "LogisticModel",
      "provenance": [],
      "collapsed_sections": [
        "yWs0xnJAv5hC",
        "FAwJf7FzrJ-h",
        "O7Q1hoeZrXCC",
        "jGSzLKpsxD-z",
        "RZ2YFttIxLBH",
        "ug04MvUUxrEa",
        "49LT2e5LwVlB",
        "dc4wkI2Y8nJt",
        "r4n6y1EH9bZR",
        "Iedi_Cdi-cgk",
        "xz1yIbip-oD-",
        "tA9yRR8YRjAt",
        "PHzVcLFriYmK",
        "3vxHxZ5h-occ",
        "ZX5NpGYiiN2m",
        "UvPs_S02_9Pg",
        "Aw5hPzgcoOmu"
      ],
      "authorship_tag": "ABX9TyPUjBgvLmluNAzBEcQx4OuN",
      "include_colab_link": true
    },
    "kernelspec": {
      "name": "python3",
      "display_name": "Python 3"
    },
    "accelerator": "GPU"
  },
  "cells": [
    {
      "cell_type": "markdown",
      "metadata": {
        "id": "view-in-github",
        "colab_type": "text"
      },
      "source": [
        "<a href=\"https://colab.research.google.com/github/manojmukkamala/VolcanoesOnVenus/blob/master/LogisticModel.ipynb\" target=\"_parent\"><img src=\"https://colab.research.google.com/assets/colab-badge.svg\" alt=\"Open In Colab\"/></a>"
      ]
    },
    {
      "cell_type": "markdown",
      "metadata": {
        "id": "yWs0xnJAv5hC",
        "colab_type": "text"
      },
      "source": [
        "### Set Up"
      ]
    },
    {
      "cell_type": "code",
      "metadata": {
        "id": "QSHT2w9SkknA",
        "colab_type": "code",
        "colab": {}
      },
      "source": [
        "import numpy as np\n",
        "import pandas as pd\n",
        "import matplotlib.pyplot as plt\n",
        "from pylab import *\n",
        "import pickle\n",
        "\n",
        "%matplotlib inline"
      ],
      "execution_count": 0,
      "outputs": []
    },
    {
      "cell_type": "code",
      "metadata": {
        "id": "omHmuv54pM08",
        "colab_type": "code",
        "colab": {}
      },
      "source": [
        "pickle_in = open(\"/content/drive/My Drive/VolcanoesOnVenus/volcanoes_dataset.pickle\", \"rb\")\n",
        "volcanoes_dataset = pickle.load(pickle_in)\n",
        "((X_train, y_train), (X_val, y_val), (X_test, y_test)) = volcanoes_dataset"
      ],
      "execution_count": 0,
      "outputs": []
    },
    {
      "cell_type": "code",
      "metadata": {
        "id": "HtjVJHoV_AAf",
        "colab_type": "code",
        "colab": {}
      },
      "source": [
        "from sklearn.metrics import confusion_matrix\n",
        "from sklearn.metrics import classification_report \n",
        "\n",
        "def print_report(y_val, y_val_pred):\n",
        "    print('-*-*-*-*-*-*-*-*-*-*-*-*-*-*-*-*-*-*-*-*-*-*-*-*-*-*-*-*-*-*-*-*-')\n",
        "    print(\"Classification Report:\")\n",
        "    print(classification_report(y_val, y_val_pred))\n",
        "    print('-*-*-*-*-*-*-*-*-*-*-*-*-*-*-*-*-*-*-*-*-*-*-*-*-*-*-*-*-*-*-*-*-')\n",
        "    print(\"Confusion Matrix:\")\n",
        "    print(confusion_matrix(y_val, y_val_pred))\n",
        "    print('-*-*-*-*-*-*-*-*-*-*-*-*-*-*-*-*-*-*-*-*-*-*-*-*-*-*-*-*-*-*-*-*-')"
      ],
      "execution_count": 0,
      "outputs": []
    },
    {
      "cell_type": "code",
      "metadata": {
        "id": "scWiP8z71Q0X",
        "colab_type": "code",
        "colab": {}
      },
      "source": [
        "def plot_accuracy(the_model):\n",
        "    plt.plot(the_model.history['acc'], label = 'Train')\n",
        "    plt.plot(the_model.history['val_acc'], label = 'Validation')\n",
        "    plt.title('Model Accuracy')\n",
        "    plt.xlabel('Epochs')\n",
        "    plt.ylabel('Accuracy')\n",
        "    plt.legend()\n",
        "    plt.show()"
      ],
      "execution_count": 0,
      "outputs": []
    },
    {
      "cell_type": "code",
      "metadata": {
        "id": "QpEb6_HW0-iD",
        "colab_type": "code",
        "colab": {}
      },
      "source": [
        "def plot_loss(the_model):\n",
        "    plt.plot(the_model.history['loss'], label = 'Train')\n",
        "    plt.plot(the_model.history['val_loss'], label = 'Validation')\n",
        "    plt.title('Model Loss')\n",
        "    plt.xlabel('Epochs')\n",
        "    plt.ylabel('Loss')\n",
        "    plt.legend()\n",
        "    plt.show()"
      ],
      "execution_count": 0,
      "outputs": []
    },
    {
      "cell_type": "markdown",
      "metadata": {
        "id": "FAwJf7FzrJ-h",
        "colab_type": "text"
      },
      "source": [
        "### Logistic Regression"
      ]
    },
    {
      "cell_type": "markdown",
      "metadata": {
        "id": "O7Q1hoeZrXCC",
        "colab_type": "text"
      },
      "source": [
        "#### Hand Crafted Model"
      ]
    },
    {
      "cell_type": "code",
      "metadata": {
        "id": "OLhdWcS89YSO",
        "colab_type": "code",
        "colab": {}
      },
      "source": [
        "import my_nn_utils as my_net"
      ],
      "execution_count": 0,
      "outputs": []
    },
    {
      "cell_type": "markdown",
      "metadata": {
        "id": "jGSzLKpsxD-z",
        "colab_type": "text"
      },
      "source": [
        "##### Iteration 1\n",
        "\n",
        "- Number of Iterations: 1000\n",
        "- Learning Rate: 0.01"
      ]
    },
    {
      "cell_type": "code",
      "metadata": {
        "id": "DPQTt8IGqljK",
        "colab_type": "code",
        "outputId": "4460990c-7093-49e4-c1cc-ba38c9c8d60a",
        "colab": {
          "base_uri": "https://localhost:8080/",
          "height": 516
        }
      },
      "source": [
        "%%time\n",
        "\n",
        "parameters = my_net.L_Layer_Model(X_train, y_train,\n",
        "                               layers_dims = [X_train.shape[1], 1], activations = ['sigmoid'],\n",
        "                               num_iterations = 1000, learning_rate = 0.01, print_cost = True, print_every = 100)"
      ],
      "execution_count": 0,
      "outputs": [
        {
          "output_type": "stream",
          "text": [
            "Cost after epoch 0: 0.451016\n",
            "Cost after epoch 100: 0.435068\n",
            "Cost after epoch 200: 0.425579\n",
            "Cost after epoch 300: 0.416707\n",
            "Cost after epoch 400: 0.408390\n",
            "Cost after epoch 500: 0.400575\n",
            "Cost after epoch 600: 0.393212\n",
            "Cost after epoch 700: 0.386256\n",
            "Cost after epoch 800: 0.379667\n",
            "Cost after epoch 900: 0.373408\n",
            "Train accuracy: 84.18571907722978 %\n"
          ],
          "name": "stdout"
        },
        {
          "output_type": "display_data",
          "data": {
            "image/png": "[encoded data removed]",
            "text/plain": [
              "<Figure size 432x288 with 1 Axes>"
            ]
          },
          "metadata": {
            "tags": []
          }
        },
        {
          "output_type": "stream",
          "text": [
            "CPU times: user 9min 39s, sys: 1min 21s, total: 11min 1s\n",
            "Wall time: 5min 33s\n"
          ],
          "name": "stdout"
        }
      ]
    },
    {
      "cell_type": "code",
      "metadata": {
        "id": "TJDRUfFUq5sa",
        "colab_type": "code",
        "outputId": "966415ae-1492-46ec-8630-686a050f600a",
        "colab": {
          "base_uri": "https://localhost:8080/",
          "height": 34
        }
      },
      "source": [
        "y_val_pred = my_net.predict(X_val, parameters, ['sigmoid'])\n",
        "print(\"Validation Accuracy: \", my_net.pred_accuracy(y_val_pred, y_val))"
      ],
      "execution_count": 0,
      "outputs": [
        {
          "output_type": "stream",
          "text": [
            "Validation Accuracy:  82.24903820200382\n"
          ],
          "name": "stdout"
        }
      ]
    },
    {
      "cell_type": "code",
      "metadata": {
        "id": "kR_Ax_Qyq-_W",
        "colab_type": "code",
        "outputId": "d9f34def-5299-4be4-c4b9-747482ec53f3",
        "colab": {
          "base_uri": "https://localhost:8080/",
          "height": 289
        }
      },
      "source": [
        "print_report(y_val, y_val_pred)"
      ],
      "execution_count": 0,
      "outputs": [
        {
          "output_type": "stream",
          "text": [
            "-*-*-*-*-*-*-*-*-*-*-*-*-*-*-*-*-*-*-*-*-*-*-*-*-*-*-*-*-*-*-*-*-\n",
            "Classification Report:\n",
            "              precision    recall  f1-score   support\n",
            "\n",
            "           0       0.85      0.99      0.92      1834\n",
            "           1       0.67      0.10      0.17       353\n",
            "\n",
            "    accuracy                           0.85      2187\n",
            "   macro avg       0.76      0.54      0.54      2187\n",
            "weighted avg       0.82      0.85      0.80      2187\n",
            "\n",
            "-*-*-*-*-*-*-*-*-*-*-*-*-*-*-*-*-*-*-*-*-*-*-*-*-*-*-*-*-*-*-*-*-\n",
            "Confusion Matrix:\n",
            "[[1817   17]\n",
            " [ 318   35]]\n",
            "-*-*-*-*-*-*-*-*-*-*-*-*-*-*-*-*-*-*-*-*-*-*-*-*-*-*-*-*-*-*-*-*-\n"
          ],
          "name": "stdout"
        }
      ]
    },
    {
      "cell_type": "code",
      "metadata": {
        "id": "Ww7nCimh7Bb8",
        "colab_type": "code",
        "outputId": "3256d04b-bb8a-4498-a77f-e3a72344e784",
        "colab": {
          "base_uri": "https://localhost:8080/",
          "height": 68
        }
      },
      "source": [
        "pd.Series(y_val).value_counts()"
      ],
      "execution_count": 0,
      "outputs": [
        {
          "output_type": "execute_result",
          "data": {
            "text/plain": [
              "0    1834\n",
              "1     353\n",
              "dtype: int64"
            ]
          },
          "metadata": {
            "tags": []
          },
          "execution_count": 9
        }
      ]
    },
    {
      "cell_type": "code",
      "metadata": {
        "id": "CXsZpgJv7L1O",
        "colab_type": "code",
        "outputId": "fe827cf2-1f28-4d39-a442-6ea447689105",
        "colab": {
          "base_uri": "https://localhost:8080/",
          "height": 68
        }
      },
      "source": [
        "pd.Series(y_val_pred.reshape(-1,)).value_counts()"
      ],
      "execution_count": 0,
      "outputs": [
        {
          "output_type": "execute_result",
          "data": {
            "text/plain": [
              "0.0    2135\n",
              "1.0      52\n",
              "dtype: int64"
            ]
          },
          "metadata": {
            "tags": []
          },
          "execution_count": 11
        }
      ]
    },
    {
      "cell_type": "markdown",
      "metadata": {
        "id": "RZ2YFttIxLBH",
        "colab_type": "text"
      },
      "source": [
        "##### Iteration 2\n",
        "\n",
        "- Number of Iterations: 1000\n",
        "- Learning Rate: 0.005"
      ]
    },
    {
      "cell_type": "code",
      "metadata": {
        "id": "kD-9QoDQxNOn",
        "colab_type": "code",
        "outputId": "10135c6f-922c-422b-bd85-711b69af2774",
        "colab": {
          "base_uri": "https://localhost:8080/",
          "height": 516
        }
      },
      "source": [
        "%%time\n",
        "\n",
        "parameters = my_net.L_Layer_Model(X_train, y_train,\n",
        "                               layers_dims = [X_train.shape[1], 1], activations = ['sigmoid'],\n",
        "                               num_iterations = 1000, learning_rate = 0.005, print_cost = True, print_every = 100)"
      ],
      "execution_count": 0,
      "outputs": [
        {
          "output_type": "stream",
          "text": [
            "Cost after epoch 0: 0.451016\n",
            "Cost after epoch 100: 0.410707\n",
            "Cost after epoch 200: 0.405742\n",
            "Cost after epoch 300: 0.400964\n",
            "Cost after epoch 400: 0.396362\n",
            "Cost after epoch 500: 0.391927\n",
            "Cost after epoch 600: 0.387653\n",
            "Cost after epoch 700: 0.383531\n",
            "Cost after epoch 800: 0.379555\n",
            "Cost after epoch 900: 0.375717\n",
            "Train accuracy: 85.40644969534848 %\n"
          ],
          "name": "stdout"
        },
        {
          "output_type": "display_data",
          "data": {
            "image/png": "[encoded data removed]",
            "text/plain": [
              "<Figure size 432x288 with 1 Axes>"
            ]
          },
          "metadata": {
            "tags": []
          }
        },
        {
          "output_type": "stream",
          "text": [
            "CPU times: user 10min 11s, sys: 1min 24s, total: 11min 36s\n",
            "Wall time: 5min 51s\n"
          ],
          "name": "stdout"
        }
      ]
    },
    {
      "cell_type": "code",
      "metadata": {
        "id": "rWHnGneRxSd1",
        "colab_type": "code",
        "outputId": "dec669aa-7871-46f5-941a-3d01321a6acf",
        "colab": {
          "base_uri": "https://localhost:8080/",
          "height": 34
        }
      },
      "source": [
        "y_val_pred = my_net.predict(X_val, parameters, ['sigmoid'])\n",
        "print(\"Validation Accuracy: \", my_net.pred_accuracy(y_val_pred, y_val))"
      ],
      "execution_count": 0,
      "outputs": [
        {
          "output_type": "stream",
          "text": [
            "Validation Accuracy:  83.642419593353\n"
          ],
          "name": "stdout"
        }
      ]
    },
    {
      "cell_type": "code",
      "metadata": {
        "id": "tENV69eVxhvH",
        "colab_type": "code",
        "outputId": "3d042443-9a5d-4361-8f3c-44fa3c711d8d",
        "colab": {
          "base_uri": "https://localhost:8080/",
          "height": 238
        }
      },
      "source": [
        "print(\"Classification Report:\")\n",
        "print(classification_report(y_val, y_val_pred))\n",
        "print(\"Confusion Matrix:\")\n",
        "print(confusion_matrix(y_val, y_val_pred))"
      ],
      "execution_count": 0,
      "outputs": [
        {
          "output_type": "stream",
          "text": [
            "Classification Report:\n",
            "              precision    recall  f1-score   support\n",
            "\n",
            "           0       0.84      1.00      0.91      1834\n",
            "           1       0.14      0.00      0.01       353\n",
            "\n",
            "    accuracy                           0.84      2187\n",
            "   macro avg       0.49      0.50      0.46      2187\n",
            "weighted avg       0.73      0.84      0.76      2187\n",
            "\n",
            "Confusion Matrix:\n",
            "[[1828    6]\n",
            " [ 352    1]]\n"
          ],
          "name": "stdout"
        }
      ]
    },
    {
      "cell_type": "markdown",
      "metadata": {
        "id": "ug04MvUUxrEa",
        "colab_type": "text"
      },
      "source": [
        "##### Iteration 3\n",
        "\n",
        "- Number of Iterations: 5000\n",
        "- Learning Rate: 0.005"
      ]
    },
    {
      "cell_type": "code",
      "metadata": {
        "id": "hFnk9HeSxs12",
        "colab_type": "code",
        "outputId": "658685e9-6866-4e62-f58f-a30a4b142e7e",
        "colab": {
          "base_uri": "https://localhost:8080/",
          "height": 431
        }
      },
      "source": [
        "%%time\n",
        "\n",
        "parameters = my_net.L_Layer_Model(X_train, y_train,\n",
        "                               layers_dims = [X_train.shape[1], 1], activations = ['sigmoid'],\n",
        "                               num_iterations = 5000, learning_rate = 0.005, print_cost = True, print_every = 1000)"
      ],
      "execution_count": 0,
      "outputs": [
        {
          "output_type": "stream",
          "text": [
            "Cost after epoch 0: 0.451016\n",
            "Cost after epoch 1000: 0.372011\n",
            "Cost after epoch 2000: 0.341026\n",
            "Cost after epoch 3000: 0.318142\n",
            "Cost after epoch 4000: 0.300494\n",
            "Train accuracy: 83.44907129043399 %\n"
          ],
          "name": "stdout"
        },
        {
          "output_type": "display_data",
          "data": {
            "image/png": "[encoded data removed]",
            "text/plain": [
              "<Figure size 432x288 with 1 Axes>"
            ]
          },
          "metadata": {
            "tags": []
          }
        },
        {
          "output_type": "stream",
          "text": [
            "CPU times: user 48min 14s, sys: 6min 48s, total: 55min 2s\n",
            "Wall time: 27min 42s\n"
          ],
          "name": "stdout"
        }
      ]
    },
    {
      "cell_type": "code",
      "metadata": {
        "id": "UYB8DLCZxvRQ",
        "colab_type": "code",
        "outputId": "3f58747a-92ef-47f5-a60d-8dad46f4a04a",
        "colab": {
          "base_uri": "https://localhost:8080/",
          "height": 34
        }
      },
      "source": [
        "y_val_pred = my_net.predict(X_val, parameters, ['sigmoid'])\n",
        "print(\"Validation Accuracy: \", my_net.pred_accuracy(y_val_pred, y_val))"
      ],
      "execution_count": 0,
      "outputs": [
        {
          "output_type": "stream",
          "text": [
            "Validation Accuracy:  81.59879355270753\n"
          ],
          "name": "stdout"
        }
      ]
    },
    {
      "cell_type": "code",
      "metadata": {
        "id": "k5Be6SQ2xwdr",
        "colab_type": "code",
        "outputId": "bfdc0d32-ee11-40a2-b0f4-88da28938bec",
        "colab": {
          "base_uri": "https://localhost:8080/",
          "height": 238
        }
      },
      "source": [
        "print(\"Classification Report:\")\n",
        "print(classification_report(y_val, y_val_pred))\n",
        "print(\"Confusion Matrix:\")\n",
        "print(confusion_matrix(y_val, y_val_pred))"
      ],
      "execution_count": 0,
      "outputs": [
        {
          "output_type": "stream",
          "text": [
            "Classification Report:\n",
            "              precision    recall  f1-score   support\n",
            "\n",
            "           0       0.86      0.99      0.92      1834\n",
            "           1       0.78      0.16      0.27       353\n",
            "\n",
            "    accuracy                           0.86      2187\n",
            "   macro avg       0.82      0.58      0.59      2187\n",
            "weighted avg       0.85      0.86      0.82      2187\n",
            "\n",
            "Confusion Matrix:\n",
            "[[1818   16]\n",
            " [ 296   57]]\n"
          ],
          "name": "stdout"
        }
      ]
    },
    {
      "cell_type": "markdown",
      "metadata": {
        "id": "49LT2e5LwVlB",
        "colab_type": "text"
      },
      "source": [
        "#### SKLearn Model"
      ]
    },
    {
      "cell_type": "code",
      "metadata": {
        "id": "FoGPkX5ywXrK",
        "colab_type": "code",
        "colab": {}
      },
      "source": [
        "from sklearn.linear_model import LogisticRegression\n",
        "from sklearn.metrics import accuracy_score"
      ],
      "execution_count": 0,
      "outputs": []
    },
    {
      "cell_type": "markdown",
      "metadata": {
        "id": "dc4wkI2Y8nJt",
        "colab_type": "text"
      },
      "source": [
        "##### Iteration 1"
      ]
    },
    {
      "cell_type": "code",
      "metadata": {
        "id": "s47irN0S07Dy",
        "colab_type": "code",
        "outputId": "37d12a9f-2116-4b25-9dbe-98ca15b56863",
        "colab": {
          "base_uri": "https://localhost:8080/",
          "height": 51
        }
      },
      "source": [
        "%%time\n",
        "\n",
        "sk_log = LogisticRegression(n_jobs = -1)\n",
        "sk_log.fit(X_train, y_train)\n",
        "y_val_pred = sk_log.predict(X_val)"
      ],
      "execution_count": 0,
      "outputs": [
        {
          "output_type": "stream",
          "text": [
            "CPU times: user 1.76 s, sys: 338 ms, total: 2.09 s\n",
            "Wall time: 3min 28s\n"
          ],
          "name": "stdout"
        }
      ]
    },
    {
      "cell_type": "code",
      "metadata": {
        "id": "sV8cG2s_1B4B",
        "colab_type": "code",
        "outputId": "2ab554f0-8057-427b-b202-401cbfc30687",
        "colab": {
          "base_uri": "https://localhost:8080/",
          "height": 51
        }
      },
      "source": [
        "print(\"Train Accuracy: \", accuracy_score(y_train, sk_log.predict(X_train)))\n",
        "print(\"Validation Accuracy: \", accuracy_score(y_val, y_val_pred))"
      ],
      "execution_count": 0,
      "outputs": [
        {
          "output_type": "stream",
          "text": [
            "Train Accuracy:  0.9943528013077724\n",
            "Validation Accuracy:  0.9236396890717878\n"
          ],
          "name": "stdout"
        }
      ]
    },
    {
      "cell_type": "code",
      "metadata": {
        "id": "jAYQdPHZ2Ai_",
        "colab_type": "code",
        "outputId": "8219a4a0-968d-4d10-8bed-52edd78561d3",
        "colab": {
          "base_uri": "https://localhost:8080/",
          "height": 238
        }
      },
      "source": [
        "print(\"Classification Report:\")\n",
        "print(classification_report(y_val, y_val_pred))\n",
        "print(\"Confusion Matrix:\")\n",
        "print(confusion_matrix(y_val, y_val_pred))"
      ],
      "execution_count": 0,
      "outputs": [
        {
          "output_type": "stream",
          "text": [
            "Classification Report:\n",
            "              precision    recall  f1-score   support\n",
            "\n",
            "           0       0.94      0.97      0.96      1834\n",
            "           1       0.82      0.67      0.74       353\n",
            "\n",
            "    accuracy                           0.92      2187\n",
            "   macro avg       0.88      0.82      0.85      2187\n",
            "weighted avg       0.92      0.92      0.92      2187\n",
            "\n",
            "Confusion Matrix:\n",
            "[[1783   51]\n",
            " [ 116  237]]\n"
          ],
          "name": "stdout"
        }
      ]
    },
    {
      "cell_type": "markdown",
      "metadata": {
        "id": "r4n6y1EH9bZR",
        "colab_type": "text"
      },
      "source": [
        "##### Iteration 2"
      ]
    },
    {
      "cell_type": "code",
      "metadata": {
        "id": "Un7FJArA7OBz",
        "colab_type": "code",
        "outputId": "aa72286d-26de-4280-f7de-c5915f34bc96",
        "colab": {
          "base_uri": "https://localhost:8080/",
          "height": 51
        }
      },
      "source": [
        "%%time\n",
        "\n",
        "sk_log = LogisticRegression(penalty = 'none', n_jobs = -1)\n",
        "sk_log.fit(X_train, y_train)\n",
        "y_val_pred = sk_log.predict(X_val)"
      ],
      "execution_count": 0,
      "outputs": [
        {
          "output_type": "stream",
          "text": [
            "CPU times: user 2.28 s, sys: 398 ms, total: 2.67 s\n",
            "Wall time: 3min 26s\n"
          ],
          "name": "stdout"
        }
      ]
    },
    {
      "cell_type": "code",
      "metadata": {
        "id": "u0jKF8BP7N68",
        "colab_type": "code",
        "outputId": "f12e6ced-541b-4ab2-9215-8e3f82ccd054",
        "colab": {
          "base_uri": "https://localhost:8080/",
          "height": 51
        }
      },
      "source": [
        "print(\"Train Accuracy: \", accuracy_score(y_train, sk_log.predict(X_train)))\n",
        "print(\"Validation Accuracy: \", accuracy_score(y_val, y_val_pred))"
      ],
      "execution_count": 0,
      "outputs": [
        {
          "output_type": "stream",
          "text": [
            "Train Accuracy:  0.9953930747510774\n",
            "Validation Accuracy:  0.9099222679469593\n"
          ],
          "name": "stdout"
        }
      ]
    },
    {
      "cell_type": "code",
      "metadata": {
        "id": "rH370QIi-bcD",
        "colab_type": "code",
        "outputId": "ff80d0ec-f67d-49a2-c285-6754740acd01",
        "colab": {
          "base_uri": "https://localhost:8080/",
          "height": 238
        }
      },
      "source": [
        "print(\"Classification Report:\")\n",
        "print(classification_report(y_val, y_val_pred))\n",
        "print(\"Confusion Matrix:\")\n",
        "print(confusion_matrix(y_val, y_val_pred))"
      ],
      "execution_count": 0,
      "outputs": [
        {
          "output_type": "stream",
          "text": [
            "Classification Report:\n",
            "              precision    recall  f1-score   support\n",
            "\n",
            "           0       0.93      0.96      0.95      1834\n",
            "           1       0.76      0.65      0.70       353\n",
            "\n",
            "    accuracy                           0.91      2187\n",
            "   macro avg       0.85      0.80      0.82      2187\n",
            "weighted avg       0.91      0.91      0.91      2187\n",
            "\n",
            "Confusion Matrix:\n",
            "[[1761   73]\n",
            " [ 124  229]]\n"
          ],
          "name": "stdout"
        }
      ]
    },
    {
      "cell_type": "markdown",
      "metadata": {
        "id": "Iedi_Cdi-cgk",
        "colab_type": "text"
      },
      "source": [
        "##### Iteration 3"
      ]
    },
    {
      "cell_type": "code",
      "metadata": {
        "id": "EHm_cQX6-fgJ",
        "colab_type": "code",
        "outputId": "f499b460-d169-493a-b8ab-aa1317574a7c",
        "colab": {
          "base_uri": "https://localhost:8080/",
          "height": 85
        }
      },
      "source": [
        "%%time\n",
        "\n",
        "sk_log = LogisticRegression(solver = 'saga', n_jobs = -1)\n",
        "sk_log.fit(X_train, y_train)\n",
        "y_val_pred = sk_log.predict(X_val)"
      ],
      "execution_count": 0,
      "outputs": [
        {
          "output_type": "stream",
          "text": [
            "CPU times: user 1min 26s, sys: 75.2 ms, total: 1min 26s\n",
            "Wall time: 1min 26s\n"
          ],
          "name": "stdout"
        },
        {
          "output_type": "stream",
          "text": [
            "/usr/local/lib/python3.6/dist-packages/sklearn/linear_model/_sag.py:330: ConvergenceWarning: The max_iter was reached which means the coef_ did not converge\n",
            "  \"the coef_ did not converge\", ConvergenceWarning)\n"
          ],
          "name": "stderr"
        }
      ]
    },
    {
      "cell_type": "code",
      "metadata": {
        "id": "p9xUhKqN-j48",
        "colab_type": "code",
        "outputId": "212c3de5-4738-4f23-b982-f85a5438aa76",
        "colab": {
          "base_uri": "https://localhost:8080/",
          "height": 51
        }
      },
      "source": [
        "print(\"Train Accuracy: \", accuracy_score(y_train, sk_log.predict(X_train)))\n",
        "print(\"Validation Accuracy: \", accuracy_score(y_val, y_val_pred))"
      ],
      "execution_count": 0,
      "outputs": [
        {
          "output_type": "stream",
          "text": [
            "Train Accuracy:  0.9511071481646605\n",
            "Validation Accuracy:  0.9144947416552355\n"
          ],
          "name": "stdout"
        }
      ]
    },
    {
      "cell_type": "code",
      "metadata": {
        "id": "jidwvygI-lVM",
        "colab_type": "code",
        "outputId": "c9b99768-43f4-4bf8-ece8-ef94d6efa181",
        "colab": {
          "base_uri": "https://localhost:8080/",
          "height": 238
        }
      },
      "source": [
        "print(\"Classification Report:\")\n",
        "print(classification_report(y_val, y_val_pred))\n",
        "print(\"Confusion Matrix:\")\n",
        "print(confusion_matrix(y_val, y_val_pred))"
      ],
      "execution_count": 0,
      "outputs": [
        {
          "output_type": "stream",
          "text": [
            "Classification Report:\n",
            "              precision    recall  f1-score   support\n",
            "\n",
            "           0       0.92      0.98      0.95      1834\n",
            "           1       0.85      0.58      0.68       353\n",
            "\n",
            "    accuracy                           0.91      2187\n",
            "   macro avg       0.88      0.78      0.82      2187\n",
            "weighted avg       0.91      0.91      0.91      2187\n",
            "\n",
            "Confusion Matrix:\n",
            "[[1797   37]\n",
            " [ 150  203]]\n"
          ],
          "name": "stdout"
        }
      ]
    },
    {
      "cell_type": "markdown",
      "metadata": {
        "id": "xz1yIbip-oD-",
        "colab_type": "text"
      },
      "source": [
        "##### Iteration 4"
      ]
    },
    {
      "cell_type": "code",
      "metadata": {
        "id": "wHH7eWWj-nTG",
        "colab_type": "code",
        "outputId": "e4b19623-ba3d-4e92-b6a7-a7f1e4eb6db0",
        "colab": {
          "base_uri": "https://localhost:8080/",
          "height": 85
        }
      },
      "source": [
        "%%time\n",
        "\n",
        "sk_log = LogisticRegression(solver = 'saga', penalty = 'none', n_jobs = -1)\n",
        "sk_log.fit(X_train, y_train)\n",
        "y_val_pred = sk_log.predict(X_val)"
      ],
      "execution_count": 0,
      "outputs": [
        {
          "output_type": "stream",
          "text": [
            "CPU times: user 1min 26s, sys: 72.8 ms, total: 1min 26s\n",
            "Wall time: 1min 26s\n"
          ],
          "name": "stdout"
        },
        {
          "output_type": "stream",
          "text": [
            "/usr/local/lib/python3.6/dist-packages/sklearn/linear_model/_sag.py:330: ConvergenceWarning: The max_iter was reached which means the coef_ did not converge\n",
            "  \"the coef_ did not converge\", ConvergenceWarning)\n"
          ],
          "name": "stderr"
        }
      ]
    },
    {
      "cell_type": "code",
      "metadata": {
        "id": "TEHQbnoQ-vxG",
        "colab_type": "code",
        "outputId": "abdeed08-3a5e-434d-f3d5-3a2ed8e110b3",
        "colab": {
          "base_uri": "https://localhost:8080/",
          "height": 51
        }
      },
      "source": [
        "print(\"Train Accuracy: \", accuracy_score(y_train, sk_log.predict(X_train)))\n",
        "print(\"Validation Accuracy: \", accuracy_score(y_val, y_val_pred))"
      ],
      "execution_count": 0,
      "outputs": [
        {
          "output_type": "stream",
          "text": [
            "Train Accuracy:  0.9521474216079655\n",
            "Validation Accuracy:  0.9163237311385459\n"
          ],
          "name": "stdout"
        }
      ]
    },
    {
      "cell_type": "code",
      "metadata": {
        "id": "TLWOxin7-wON",
        "colab_type": "code",
        "outputId": "336921ea-1b46-4a07-c67b-36eea774772b",
        "colab": {
          "base_uri": "https://localhost:8080/",
          "height": 289
        }
      },
      "source": [
        "print_report(y_val, y_val_pred)"
      ],
      "execution_count": 0,
      "outputs": [
        {
          "output_type": "stream",
          "text": [
            "-*-*-*-*-*-*-*-*-*-*-*-*-*-*-*-*-*-*-*-*-*-*-*-*-*-*-*-*-*-*-*-*-\n",
            "Classification Report:\n",
            "              precision    recall  f1-score   support\n",
            "\n",
            "           0       0.92      0.98      0.95      1834\n",
            "           1       0.85      0.59      0.69       353\n",
            "\n",
            "    accuracy                           0.92      2187\n",
            "   macro avg       0.89      0.78      0.82      2187\n",
            "weighted avg       0.91      0.92      0.91      2187\n",
            "\n",
            "-*-*-*-*-*-*-*-*-*-*-*-*-*-*-*-*-*-*-*-*-*-*-*-*-*-*-*-*-*-*-*-*-\n",
            "Confusion Matrix:\n",
            "[[1797   37]\n",
            " [ 146  207]]\n",
            "-*-*-*-*-*-*-*-*-*-*-*-*-*-*-*-*-*-*-*-*-*-*-*-*-*-*-*-*-*-*-*-*-\n"
          ],
          "name": "stdout"
        }
      ]
    },
    {
      "cell_type": "markdown",
      "metadata": {
        "id": "tA9yRR8YRjAt",
        "colab_type": "text"
      },
      "source": [
        "#### Keras"
      ]
    },
    {
      "cell_type": "code",
      "metadata": {
        "id": "yeiQYU5ORlfT",
        "colab_type": "code",
        "outputId": "9a37ab4e-9d0d-4e7e-ed43-3b4030522653",
        "colab": {
          "base_uri": "https://localhost:8080/",
          "height": 63
        }
      },
      "source": [
        "import tensorflow as tf"
      ],
      "execution_count": 0,
      "outputs": [
        {
          "output_type": "display_data",
          "data": {
            "text/html": [
              "<p style=\"color: red;\">\n",
              "The default version of TensorFlow in Colab will soon switch to TensorFlow 2.x.<br>\n",
              "We recommend you <a href=\"https://www.tensorflow.org/guide/migrate\" target=\"_blank\">upgrade</a> now \n",
              "or ensure your notebook will continue to use TensorFlow 1.x via the <code>%tensorflow_version 1.x</code> magic:\n",
              "<a href=\"https://colab.research.google.com/notebooks/tensorflow_version.ipynb\" target=\"_blank\">more info</a>.</p>\n"
            ],
            "text/plain": [
              "<IPython.core.display.HTML object>"
            ]
          },
          "metadata": {
            "tags": []
          }
        }
      ]
    },
    {
      "cell_type": "markdown",
      "metadata": {
        "id": "PHzVcLFriYmK",
        "colab_type": "text"
      },
      "source": [
        "##### Iterations 1\n",
        "\n",
        "- Number of Epochs: 100\n",
        "- Batch Size: Batch"
      ]
    },
    {
      "cell_type": "code",
      "metadata": {
        "id": "ZRNF2i8zmgiI",
        "colab_type": "code",
        "colab": {}
      },
      "source": [
        "del(model, vol_model)"
      ],
      "execution_count": 0,
      "outputs": []
    },
    {
      "cell_type": "code",
      "metadata": {
        "id": "P7hyJZ2K9Bal",
        "colab_type": "code",
        "colab": {}
      },
      "source": [
        "model = tf.keras.Sequential()\n",
        "model.add(tf.keras.layers.Flatten())\n",
        "model.add(tf.keras.layers.Dense(1, activation = tf.nn.sigmoid))\n",
        "model.compile(optimizer = 'SGD', loss = 'binary_crossentropy', metrics = ['accuracy'])\n",
        "vol_model = model.fit(X_train, y_train, validation_data=(X_val, y_val), epochs = 100, batch_size = len(y_train), verbose = 0, shuffle = True)"
      ],
      "execution_count": 0,
      "outputs": []
    },
    {
      "cell_type": "code",
      "metadata": {
        "id": "lmRBwqyP9BWO",
        "colab_type": "code",
        "outputId": "47be11ac-d93e-4dbc-bbe6-c6978f3bc8ba",
        "colab": {
          "base_uri": "https://localhost:8080/",
          "height": 295
        }
      },
      "source": [
        "plot_loss(vol_model)"
      ],
      "execution_count": 0,
      "outputs": [
        {
          "output_type": "display_data",
          "data": {
            "image/png": "[encoded data removed]",
            "text/plain": [
              "<Figure size 432x288 with 1 Axes>"
            ]
          },
          "metadata": {
            "tags": []
          }
        }
      ]
    },
    {
      "cell_type": "code",
      "metadata": {
        "id": "pTQ7c8dE9BTn",
        "colab_type": "code",
        "outputId": "86c3fa9b-6ada-4303-b43e-12aca26d30c6",
        "colab": {
          "base_uri": "https://localhost:8080/",
          "height": 295
        }
      },
      "source": [
        "plot_accuracy(vol_model)"
      ],
      "execution_count": 0,
      "outputs": [
        {
          "output_type": "display_data",
          "data": {
            "image/png": "[encoded data removed]",
            "text/plain": [
              "<Figure size 432x288 with 1 Axes>"
            ]
          },
          "metadata": {
            "tags": []
          }
        }
      ]
    },
    {
      "cell_type": "code",
      "metadata": {
        "id": "_weUU9xH9AOv",
        "colab_type": "code",
        "outputId": "6cf161ed-0f82-4724-af4b-e968e7ae6250",
        "colab": {
          "base_uri": "https://localhost:8080/",
          "height": 51
        }
      },
      "source": [
        "y_val_pred = model.predict(X_val)\n",
        "y_val_pred[y_val_pred > 0.5] = 1\n",
        "y_val_pred[y_val_pred <= 0.5] = 0\n",
        "\n",
        "print(\"Train Accuracy: \", model.evaluate(X_train, y_train, verbose = 0)[1])\n",
        "print(\"Test Accuracy: \", model.evaluate(X_val, y_val, verbose = 0)[1])"
      ],
      "execution_count": 0,
      "outputs": [
        {
          "output_type": "stream",
          "text": [
            "Train Accuracy:  0.8540645\n",
            "Test Accuracy:  0.8385917\n"
          ],
          "name": "stdout"
        }
      ]
    },
    {
      "cell_type": "code",
      "metadata": {
        "id": "H4s6q_fc9AMR",
        "colab_type": "code",
        "outputId": "4f9a6e4a-987f-4cb1-9340-65d84e20c4f2",
        "colab": {
          "base_uri": "https://localhost:8080/",
          "height": 343
        }
      },
      "source": [
        "print_report(y_val, y_val_pred)"
      ],
      "execution_count": 0,
      "outputs": [
        {
          "output_type": "stream",
          "text": [
            "-*-*-*-*-*-*-*-*-*-*-*-*-*-*-*-*-*-*-*-*-*-*-*-*-*-*-*-*-*-*-*-*-\n",
            "Classification Report:\n",
            "              precision    recall  f1-score   support\n",
            "\n",
            "           0       0.84      1.00      0.91      1834\n",
            "           1       0.00      0.00      0.00       353\n",
            "\n",
            "    accuracy                           0.84      2187\n",
            "   macro avg       0.42      0.50      0.46      2187\n",
            "weighted avg       0.70      0.84      0.76      2187\n",
            "\n",
            "-*-*-*-*-*-*-*-*-*-*-*-*-*-*-*-*-*-*-*-*-*-*-*-*-*-*-*-*-*-*-*-*-\n",
            "Confusion Matrix:\n",
            "[[1834    0]\n",
            " [ 353    0]]\n",
            "-*-*-*-*-*-*-*-*-*-*-*-*-*-*-*-*-*-*-*-*-*-*-*-*-*-*-*-*-*-*-*-*-\n"
          ],
          "name": "stdout"
        },
        {
          "output_type": "stream",
          "text": [
            "/usr/local/lib/python3.6/dist-packages/sklearn/metrics/_classification.py:1272: UndefinedMetricWarning: Precision and F-score are ill-defined and being set to 0.0 in labels with no predicted samples. Use `zero_division` parameter to control this behavior.\n",
            "  _warn_prf(average, modifier, msg_start, len(result))\n"
          ],
          "name": "stderr"
        }
      ]
    },
    {
      "cell_type": "markdown",
      "metadata": {
        "id": "3vxHxZ5h-occ",
        "colab_type": "text"
      },
      "source": [
        "##### Iteration 2\n",
        "\n",
        "- Number of Epochs: 100\n",
        "- Batch Size: Default"
      ]
    },
    {
      "cell_type": "code",
      "metadata": {
        "id": "VVG_0uRr9AJU",
        "colab_type": "code",
        "colab": {}
      },
      "source": [
        "del(model, vol_model)"
      ],
      "execution_count": 0,
      "outputs": []
    },
    {
      "cell_type": "code",
      "metadata": {
        "id": "Im4UNYT-ioUk",
        "colab_type": "code",
        "colab": {}
      },
      "source": [
        "model = tf.keras.Sequential()\n",
        "model.add(tf.keras.layers.Flatten())\n",
        "model.add(tf.keras.layers.Dense(1, activation = tf.nn.sigmoid))\n",
        "model.compile(optimizer = 'SGD', loss = 'binary_crossentropy', metrics = ['accuracy'])\n",
        "vol_model = model.fit(X_train, y_train, validation_data=(X_val, y_val), epochs = 100, verbose = 0, shuffle = True)"
      ],
      "execution_count": 0,
      "outputs": []
    },
    {
      "cell_type": "code",
      "metadata": {
        "id": "Nh967s5yxPue",
        "colab_type": "code",
        "outputId": "577d1438-64cb-4781-ae94-468a2e7b4bb8",
        "colab": {
          "base_uri": "https://localhost:8080/",
          "height": 295
        }
      },
      "source": [
        "plot_loss(vol_model)"
      ],
      "execution_count": 0,
      "outputs": [
        {
          "output_type": "display_data",
          "data": {
            "image/png": "[encoded data removed]",
            "text/plain": [
              "<Figure size 432x288 with 1 Axes>"
            ]
          },
          "metadata": {
            "tags": []
          }
        }
      ]
    },
    {
      "cell_type": "code",
      "metadata": {
        "id": "X9aRdJb6r6tK",
        "colab_type": "code",
        "outputId": "f169d5b8-a74c-4c3d-f283-d1ebbc481a63",
        "colab": {
          "base_uri": "https://localhost:8080/",
          "height": 295
        }
      },
      "source": [
        "plot_accuracy(vol_model)"
      ],
      "execution_count": 0,
      "outputs": [
        {
          "output_type": "display_data",
          "data": {
            "image/png": "[encoded data removed]",
            "text/plain": [
              "<Figure size 432x288 with 1 Axes>"
            ]
          },
          "metadata": {
            "tags": []
          }
        }
      ]
    },
    {
      "cell_type": "code",
      "metadata": {
        "id": "1kVrnSk-iqzo",
        "colab_type": "code",
        "outputId": "9ae69afa-ec54-4db8-db86-0150b4bf38a3",
        "colab": {
          "base_uri": "https://localhost:8080/",
          "height": 51
        }
      },
      "source": [
        "y_val_pred = model.predict(X_val)\n",
        "y_val_pred[y_val_pred > 0.5] = 1\n",
        "y_val_pred[y_val_pred <= 0.5] = 0\n",
        "\n",
        "print(\"Train Accuracy: \", model.evaluate(X_train, y_train, verbose = 0)[1])\n",
        "print(\"Test Accuracy: \", model.evaluate(X_val, y_val, verbose = 0)[1])"
      ],
      "execution_count": 0,
      "outputs": [
        {
          "output_type": "stream",
          "text": [
            "Train Accuracy:  0.9249517\n",
            "Test Accuracy:  0.8920896\n"
          ],
          "name": "stdout"
        }
      ]
    },
    {
      "cell_type": "code",
      "metadata": {
        "id": "pFQqAGq5k-R8",
        "colab_type": "code",
        "outputId": "1c1519df-ef52-4be5-ef98-bd302a5ccd5f",
        "colab": {
          "base_uri": "https://localhost:8080/",
          "height": 289
        }
      },
      "source": [
        "print_report(y_val, y_val_pred)"
      ],
      "execution_count": 0,
      "outputs": [
        {
          "output_type": "stream",
          "text": [
            "-*-*-*-*-*-*-*-*-*-*-*-*-*-*-*-*-*-*-*-*-*-*-*-*-*-*-*-*-*-*-*-*-\n",
            "Classification Report:\n",
            "              precision    recall  f1-score   support\n",
            "\n",
            "           0       0.89      0.99      0.94      1834\n",
            "           1       0.87      0.39      0.54       353\n",
            "\n",
            "    accuracy                           0.89      2187\n",
            "   macro avg       0.88      0.69      0.74      2187\n",
            "weighted avg       0.89      0.89      0.87      2187\n",
            "\n",
            "-*-*-*-*-*-*-*-*-*-*-*-*-*-*-*-*-*-*-*-*-*-*-*-*-*-*-*-*-*-*-*-*-\n",
            "Confusion Matrix:\n",
            "[[1814   20]\n",
            " [ 216  137]]\n",
            "-*-*-*-*-*-*-*-*-*-*-*-*-*-*-*-*-*-*-*-*-*-*-*-*-*-*-*-*-*-*-*-*-\n"
          ],
          "name": "stdout"
        }
      ]
    },
    {
      "cell_type": "markdown",
      "metadata": {
        "id": "ZX5NpGYiiN2m",
        "colab_type": "text"
      },
      "source": [
        "##### Iteration 3\n",
        "\n",
        "- Number of Epochs: 100\n",
        "- Batch Size: 1"
      ]
    },
    {
      "cell_type": "code",
      "metadata": {
        "id": "Grqp8WTuAInS",
        "colab_type": "code",
        "colab": {}
      },
      "source": [
        "del(model, vol_model)"
      ],
      "execution_count": 0,
      "outputs": []
    },
    {
      "cell_type": "code",
      "metadata": {
        "id": "-zPPbUExSaaN",
        "colab_type": "code",
        "colab": {}
      },
      "source": [
        "model = tf.keras.Sequential()\n",
        "model.add(tf.keras.layers.Flatten())\n",
        "model.add(tf.keras.layers.Dense(1, activation = tf.nn.sigmoid))\n",
        "model.compile(optimizer = 'SGD', loss = 'binary_crossentropy', metrics = ['accuracy'])\n",
        "vol_model = model.fit(X_train, y_train, validation_data=(X_val, y_val), epochs = 100, batch_size = 1, verbose = 0, shuffle = True)"
      ],
      "execution_count": 0,
      "outputs": []
    },
    {
      "cell_type": "code",
      "metadata": {
        "id": "csQVSy5N4X7E",
        "colab_type": "code",
        "outputId": "78071c0d-7d69-4b43-e383-4436e0361d5b",
        "colab": {
          "base_uri": "https://localhost:8080/",
          "height": 295
        }
      },
      "source": [
        "plot_loss(vol_model)"
      ],
      "execution_count": 0,
      "outputs": [
        {
          "output_type": "display_data",
          "data": {
            "image/png": "[encoded data removed]",
            "text/plain": [
              "<Figure size 432x288 with 1 Axes>"
            ]
          },
          "metadata": {
            "tags": []
          }
        }
      ]
    },
    {
      "cell_type": "code",
      "metadata": {
        "id": "ousmr38D4cJv",
        "colab_type": "code",
        "outputId": "ed0d4eab-204d-46ef-ccbb-f62303db1c6b",
        "colab": {
          "base_uri": "https://localhost:8080/",
          "height": 295
        }
      },
      "source": [
        "plot_accuracy(vol_model)"
      ],
      "execution_count": 0,
      "outputs": [
        {
          "output_type": "display_data",
          "data": {
            "image/png": "[encoded data removed]",
            "text/plain": [
              "<Figure size 432x288 with 1 Axes>"
            ]
          },
          "metadata": {
            "tags": []
          }
        }
      ]
    },
    {
      "cell_type": "code",
      "metadata": {
        "id": "z17Ogpu44RDb",
        "colab_type": "code",
        "outputId": "2831a389-2acb-4d6c-e281-de89d1732364",
        "colab": {
          "base_uri": "https://localhost:8080/",
          "height": 51
        }
      },
      "source": [
        "y_val_pred = model.predict(X_val)\n",
        "y_val_pred[y_val_pred > 0.5] = 1\n",
        "y_val_pred[y_val_pred <= 0.5] = 0\n",
        "\n",
        "print(\"Train Accuracy: \", model.evaluate(X_train, y_train, verbose = 0)[1])\n",
        "print(\"Test Accuracy: \", model.evaluate(X_val, y_val, verbose = 0)[1])"
      ],
      "execution_count": 0,
      "outputs": [
        {
          "output_type": "stream",
          "text": [
            "Train Accuracy:  0.9181156\n",
            "Test Accuracy:  0.87974393\n"
          ],
          "name": "stdout"
        }
      ]
    },
    {
      "cell_type": "code",
      "metadata": {
        "id": "ODeGyo0M4Q9q",
        "colab_type": "code",
        "outputId": "d80270d5-1bb3-4fd7-b18e-2ecfe780def9",
        "colab": {
          "base_uri": "https://localhost:8080/",
          "height": 289
        }
      },
      "source": [
        "print_report(y_val, y_val_pred)"
      ],
      "execution_count": 0,
      "outputs": [
        {
          "output_type": "stream",
          "text": [
            "-*-*-*-*-*-*-*-*-*-*-*-*-*-*-*-*-*-*-*-*-*-*-*-*-*-*-*-*-*-*-*-*-\n",
            "Classification Report:\n",
            "              precision    recall  f1-score   support\n",
            "\n",
            "           0       0.88      0.99      0.93      1834\n",
            "           1       0.88      0.29      0.44       353\n",
            "\n",
            "    accuracy                           0.88      2187\n",
            "   macro avg       0.88      0.64      0.69      2187\n",
            "weighted avg       0.88      0.88      0.85      2187\n",
            "\n",
            "-*-*-*-*-*-*-*-*-*-*-*-*-*-*-*-*-*-*-*-*-*-*-*-*-*-*-*-*-*-*-*-*-\n",
            "Confusion Matrix:\n",
            "[[1820   14]\n",
            " [ 249  104]]\n",
            "-*-*-*-*-*-*-*-*-*-*-*-*-*-*-*-*-*-*-*-*-*-*-*-*-*-*-*-*-*-*-*-*-\n"
          ],
          "name": "stdout"
        }
      ]
    },
    {
      "cell_type": "markdown",
      "metadata": {
        "colab_type": "text",
        "id": "UvPs_S02_9Pg"
      },
      "source": [
        "##### Iteration 4\n",
        "\n",
        "- Number of Epochs: 100\n",
        "- Batch Size: 1\n",
        "- Optimizer: Adam"
      ]
    },
    {
      "cell_type": "code",
      "metadata": {
        "id": "i5qKCbRuBAeV",
        "colab_type": "code",
        "colab": {}
      },
      "source": [
        "del(model, vol_model)"
      ],
      "execution_count": 0,
      "outputs": []
    },
    {
      "cell_type": "code",
      "metadata": {
        "colab_type": "code",
        "id": "DAK_ax0j_9Pk",
        "outputId": "a8987707-560b-4a56-8957-bcfd5d4350f9",
        "colab": {
          "base_uri": "https://localhost:8080/",
          "height": 139
        }
      },
      "source": [
        "model = tf.keras.Sequential()\n",
        "model.add(tf.keras.layers.Flatten())\n",
        "model.add(tf.keras.layers.Dense(1, activation = tf.nn.sigmoid))\n",
        "model.compile(optimizer = 'adam', loss = 'binary_crossentropy', metrics = ['accuracy'])\n",
        "vol_model = model.fit(X_train, y_train, validation_data=(X_val, y_val), epochs = 100, batch_size = 1, verbose = 0, shuffle = True)"
      ],
      "execution_count": 0,
      "outputs": [
        {
          "output_type": "stream",
          "text": [
            "WARNING:tensorflow:From /tensorflow-1.15.0/python3.6/tensorflow_core/python/ops/resource_variable_ops.py:1630: calling BaseResourceVariable.__init__ (from tensorflow.python.ops.resource_variable_ops) with constraint is deprecated and will be removed in a future version.\n",
            "Instructions for updating:\n",
            "If using Keras pass *_constraint arguments to layers.\n",
            "WARNING:tensorflow:From /tensorflow-1.15.0/python3.6/tensorflow_core/python/ops/nn_impl.py:183: where (from tensorflow.python.ops.array_ops) is deprecated and will be removed in a future version.\n",
            "Instructions for updating:\n",
            "Use tf.where in 2.0, which has the same broadcast rule as np.where\n"
          ],
          "name": "stdout"
        }
      ]
    },
    {
      "cell_type": "code",
      "metadata": {
        "colab_type": "code",
        "outputId": "b410dbd9-4eb6-4e81-b819-9e9e47e5b4b7",
        "id": "B-La-rF0_9Po",
        "colab": {
          "base_uri": "https://localhost:8080/",
          "height": 295
        }
      },
      "source": [
        "plot_loss(vol_model)"
      ],
      "execution_count": 0,
      "outputs": [
        {
          "output_type": "display_data",
          "data": {
            "image/png": "[encoded data removed]",
            "text/plain": [
              "<Figure size 432x288 with 1 Axes>"
            ]
          },
          "metadata": {
            "tags": []
          }
        }
      ]
    },
    {
      "cell_type": "code",
      "metadata": {
        "colab_type": "code",
        "outputId": "03e76615-7305-4487-82a8-ef6569bc3cb0",
        "id": "mEDmAkx4_9Pr",
        "colab": {
          "base_uri": "https://localhost:8080/",
          "height": 295
        }
      },
      "source": [
        "plot_accuracy(vol_model)"
      ],
      "execution_count": 0,
      "outputs": [
        {
          "output_type": "display_data",
          "data": {
            "image/png": "[encoded data removed]",
            "text/plain": [
              "<Figure size 432x288 with 1 Axes>"
            ]
          },
          "metadata": {
            "tags": []
          }
        }
      ]
    },
    {
      "cell_type": "code",
      "metadata": {
        "colab_type": "code",
        "outputId": "3955bc0c-8cb3-4922-d45e-67f581cc7e8f",
        "id": "AomOYtJ2_9Pz",
        "colab": {
          "base_uri": "https://localhost:8080/",
          "height": 51
        }
      },
      "source": [
        "y_val_pred = model.predict(X_val)\n",
        "y_val_pred[y_val_pred > 0.5] = 1\n",
        "y_val_pred[y_val_pred <= 0.5] = 0\n",
        "\n",
        "print(\"Train Accuracy: \", model.evaluate(X_train, y_train, verbose = 0)[1])\n",
        "print(\"Test Accuracy: \", model.evaluate(X_val, y_val, verbose = 0)[1])"
      ],
      "execution_count": 0,
      "outputs": [
        {
          "output_type": "stream",
          "text": [
            "Train Accuracy:  0.9404072\n",
            "Test Accuracy:  0.89391863\n"
          ],
          "name": "stdout"
        }
      ]
    },
    {
      "cell_type": "code",
      "metadata": {
        "colab_type": "code",
        "id": "2lfu-oxP_9P3",
        "colab": {}
      },
      "source": [
        "print_report(y_val, y_val_pred)"
      ],
      "execution_count": 0,
      "outputs": []
    },
    {
      "cell_type": "markdown",
      "metadata": {
        "id": "Aw5hPzgcoOmu",
        "colab_type": "text"
      },
      "source": [
        "##### Iteration 5\n",
        "\n",
        "- Number of Epochs: 1000\n",
        "- Batch Size: Default\n",
        "- Optimizer: Adam"
      ]
    },
    {
      "cell_type": "code",
      "metadata": {
        "id": "LYjnfttoRxtp",
        "colab_type": "code",
        "colab": {}
      },
      "source": [
        "del(model, vol_model)"
      ],
      "execution_count": 0,
      "outputs": []
    },
    {
      "cell_type": "code",
      "metadata": {
        "id": "zA41joEZRyXR",
        "colab_type": "code",
        "outputId": "4a4c495f-bcd8-44ca-e401-54e0698e2cbb",
        "colab": {
          "base_uri": "https://localhost:8080/",
          "height": 139
        }
      },
      "source": [
        "model = tf.keras.Sequential()\n",
        "model.add(tf.keras.layers.Flatten())\n",
        "model.add(tf.keras.layers.Dense(1, activation = tf.nn.sigmoid))\n",
        "model.compile(optimizer = 'adam', loss = 'binary_crossentropy', metrics = ['accuracy'])\n",
        "vol_model = model.fit(X_train, y_train, validation_data=(X_val, y_val), epochs = 1000, verbose = 0, shuffle = True)"
      ],
      "execution_count": 0,
      "outputs": [
        {
          "output_type": "stream",
          "text": [
            "WARNING:tensorflow:From /tensorflow-1.15.0/python3.6/tensorflow_core/python/ops/resource_variable_ops.py:1630: calling BaseResourceVariable.__init__ (from tensorflow.python.ops.resource_variable_ops) with constraint is deprecated and will be removed in a future version.\n",
            "Instructions for updating:\n",
            "If using Keras pass *_constraint arguments to layers.\n",
            "WARNING:tensorflow:From /tensorflow-1.15.0/python3.6/tensorflow_core/python/ops/nn_impl.py:183: where (from tensorflow.python.ops.array_ops) is deprecated and will be removed in a future version.\n",
            "Instructions for updating:\n",
            "Use tf.where in 2.0, which has the same broadcast rule as np.where\n"
          ],
          "name": "stdout"
        }
      ]
    },
    {
      "cell_type": "code",
      "metadata": {
        "id": "4vb-k1sHR1_X",
        "colab_type": "code",
        "outputId": "349390aa-0eeb-4f26-caaf-7317fe224bf8",
        "colab": {
          "base_uri": "https://localhost:8080/",
          "height": 295
        }
      },
      "source": [
        "plot_loss(vol_model)"
      ],
      "execution_count": 0,
      "outputs": [
        {
          "output_type": "display_data",
          "data": {
            "image/png": "[encoded data removed]",
            "text/plain": [
              "<Figure size 432x288 with 1 Axes>"
            ]
          },
          "metadata": {
            "tags": []
          }
        }
      ]
    },
    {
      "cell_type": "code",
      "metadata": {
        "id": "qOPnBgrrR18i",
        "colab_type": "code",
        "outputId": "9a91db95-b3d1-40f1-9102-d5674f3cf3d3",
        "colab": {
          "base_uri": "https://localhost:8080/",
          "height": 295
        }
      },
      "source": [
        "plot_accuracy(vol_model)"
      ],
      "execution_count": 0,
      "outputs": [
        {
          "output_type": "display_data",
          "data": {
            "image/png": "[encoded data removed]",
            "text/plain": [
              "<Figure size 432x288 with 1 Axes>"
            ]
          },
          "metadata": {
            "tags": []
          }
        }
      ]
    },
    {
      "cell_type": "code",
      "metadata": {
        "id": "DBDHLA5HR15C",
        "colab_type": "code",
        "outputId": "f95a192d-cf28-46f0-9fb3-dad7e4b6c9e2",
        "colab": {
          "base_uri": "https://localhost:8080/",
          "height": 51
        }
      },
      "source": [
        "y_val_pred = model.predict(X_val)\n",
        "y_val_pred[y_val_pred > 0.5] = 1\n",
        "y_val_pred[y_val_pred <= 0.5] = 0\n",
        "\n",
        "print(\"Train Accuracy: \", model.evaluate(X_train, y_train, verbose = 0)[1])\n",
        "print(\"Test Accuracy: \", model.evaluate(X_val, y_val, verbose = 0)[1])"
      ],
      "execution_count": 0,
      "outputs": [
        {
          "output_type": "stream",
          "text": [
            "Train Accuracy:  1.0\n",
            "Test Accuracy:  0.922268\n"
          ],
          "name": "stdout"
        }
      ]
    },
    {
      "cell_type": "code",
      "metadata": {
        "id": "CvywJ5W-R63Q",
        "colab_type": "code",
        "outputId": "6042bc1b-96d8-4e16-d4a9-e7f78ef41482",
        "colab": {
          "base_uri": "https://localhost:8080/",
          "height": 289
        }
      },
      "source": [
        "print_report(y_val, y_val_pred)"
      ],
      "execution_count": 0,
      "outputs": [
        {
          "output_type": "stream",
          "text": [
            "-*-*-*-*-*-*-*-*-*-*-*-*-*-*-*-*-*-*-*-*-*-*-*-*-*-*-*-*-*-*-*-*-\n",
            "Classification Report:\n",
            "              precision    recall  f1-score   support\n",
            "\n",
            "           0       0.94      0.97      0.95      1834\n",
            "           1       0.83      0.66      0.73       353\n",
            "\n",
            "    accuracy                           0.92      2187\n",
            "   macro avg       0.88      0.82      0.84      2187\n",
            "weighted avg       0.92      0.92      0.92      2187\n",
            "\n",
            "-*-*-*-*-*-*-*-*-*-*-*-*-*-*-*-*-*-*-*-*-*-*-*-*-*-*-*-*-*-*-*-*-\n",
            "Confusion Matrix:\n",
            "[[1785   49]\n",
            " [ 121  232]]\n",
            "-*-*-*-*-*-*-*-*-*-*-*-*-*-*-*-*-*-*-*-*-*-*-*-*-*-*-*-*-*-*-*-*-\n"
          ],
          "name": "stdout"
        }
      ]
    }
  ]
}